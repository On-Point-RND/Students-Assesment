{
 "cells": [
  {
   "cell_type": "code",
   "execution_count": 1,
   "id": "e17fc2c1",
   "metadata": {},
   "outputs": [],
   "source": [
    "import pandas as pd\n",
    "from pathlib import Path"
   ]
  },
  {
   "cell_type": "code",
   "execution_count": 2,
   "id": "e50225a2",
   "metadata": {},
   "outputs": [
    {
     "name": "stdout",
     "output_type": "stream",
     "text": [
      "LLM requests: 100%|███████████████████████████| 100/100 [01:33<00:00,  1.07it/s]\n",
      "✅ Файл сохранен: /Users/alfa/Desktop/projects/Students-Assesment/data/baseline_cv.csv\n"
     ]
    }
   ],
   "source": [
    "!python baseline.py --data_type \"cv\" --output_file_name \"baseline_cv\""
   ]
  },
  {
   "cell_type": "code",
   "execution_count": 4,
   "id": "6e30b858",
   "metadata": {},
   "outputs": [],
   "source": [
    "current_dir = Path.cwd()\n",
    "data_dir = current_dir.parent.parent / \"data\""
   ]
  },
  {
   "cell_type": "code",
   "execution_count": 9,
   "id": "31ec4818",
   "metadata": {},
   "outputs": [
    {
     "data": {
      "text/html": [
       "<div>\n",
       "<style scoped>\n",
       "    .dataframe tbody tr th:only-of-type {\n",
       "        vertical-align: middle;\n",
       "    }\n",
       "\n",
       "    .dataframe tbody tr th {\n",
       "        vertical-align: top;\n",
       "    }\n",
       "\n",
       "    .dataframe thead th {\n",
       "        text-align: right;\n",
       "    }\n",
       "</style>\n",
       "<table border=\"1\" class=\"dataframe\">\n",
       "  <thead>\n",
       "    <tr style=\"text-align: right;\">\n",
       "      <th></th>\n",
       "      <th>cv</th>\n",
       "      <th>llm_markers</th>\n",
       "    </tr>\n",
       "  </thead>\n",
       "  <tbody>\n",
       "    <tr>\n",
       "      <th>0</th>\n",
       "      <td>Curriculum Vitae\\n[name] [surname]\\n+2 *** ***...</td>\n",
       "      <td>Это исключительно сильный кандидат. Оценка: 9....</td>\n",
       "    </tr>\n",
       "    <tr>\n",
       "      <th>1</th>\n",
       "      <td>[name]\\n[compaany]\\n+2 *** *** ***\\n[email]\\n[...</td>\n",
       "      <td>Оценка: 8/10\\n\\n**Сильные стороны:**\\n- Отличн...</td>\n",
       "    </tr>\n",
       "    <tr>\n",
       "      <th>2</th>\n",
       "      <td>[name] [surname]\\n+2 *** *** *** | [email] | [...</td>\n",
       "      <td>9/10\\n\\nЭто впечатляющее резюме демонстрирует ...</td>\n",
       "    </tr>\n",
       "    <tr>\n",
       "      <th>3</th>\n",
       "      <td>[name] [surname]\\n[location]\\nEmail: [email]\\n...</td>\n",
       "      <td>На основе предоставленного резюме я оцениваю к...</td>\n",
       "    </tr>\n",
       "    <tr>\n",
       "      <th>4</th>\n",
       "      <td>[name] [surname]\\n[location], [location]\\n[ema...</td>\n",
       "      <td>9/10\\n\\n**Обоснование оценки:**\\n\\nКандидат де...</td>\n",
       "    </tr>\n",
       "    <tr>\n",
       "      <th>...</th>\n",
       "      <td>...</td>\n",
       "      <td>...</td>\n",
       "    </tr>\n",
       "    <tr>\n",
       "      <th>95</th>\n",
       "      <td>[name] [surname]\\n+2 *** *** *** | [email] | h...</td>\n",
       "      <td>На основе предоставленного резюме я оцениваю к...</td>\n",
       "    </tr>\n",
       "    <tr>\n",
       "      <th>96</th>\n",
       "      <td>[name] [surname]\\n[compaany]\\n+2 *** *** ***\\n...</td>\n",
       "      <td>На основе предоставленного резюме я оцениваю к...</td>\n",
       "    </tr>\n",
       "    <tr>\n",
       "      <th>97</th>\n",
       "      <td>[name]\\n+2 *** *** *** | [email] | [email] | [...</td>\n",
       "      <td>### Оценка резюме для летней школы по искусств...</td>\n",
       "    </tr>\n",
       "    <tr>\n",
       "      <th>98</th>\n",
       "      <td>[name] [surname]\\n+2 *** *** *** ◇ [location],...</td>\n",
       "      <td>| Критерий оценки          | Обоснование      ...</td>\n",
       "    </tr>\n",
       "    <tr>\n",
       "      <th>99</th>\n",
       "      <td>[name] [surname]\\nDatScien[name]st\\n[email]\\nS...</td>\n",
       "      <td>На основе предоставленного резюме я оцениваю к...</td>\n",
       "    </tr>\n",
       "  </tbody>\n",
       "</table>\n",
       "<p>100 rows × 2 columns</p>\n",
       "</div>"
      ],
      "text/plain": [
       "                                                   cv  \\\n",
       "0   Curriculum Vitae\\n[name] [surname]\\n+2 *** ***...   \n",
       "1   [name]\\n[compaany]\\n+2 *** *** ***\\n[email]\\n[...   \n",
       "2   [name] [surname]\\n+2 *** *** *** | [email] | [...   \n",
       "3   [name] [surname]\\n[location]\\nEmail: [email]\\n...   \n",
       "4   [name] [surname]\\n[location], [location]\\n[ema...   \n",
       "..                                                ...   \n",
       "95  [name] [surname]\\n+2 *** *** *** | [email] | h...   \n",
       "96  [name] [surname]\\n[compaany]\\n+2 *** *** ***\\n...   \n",
       "97  [name]\\n+2 *** *** *** | [email] | [email] | [...   \n",
       "98  [name] [surname]\\n+2 *** *** *** ◇ [location],...   \n",
       "99  [name] [surname]\\nDatScien[name]st\\n[email]\\nS...   \n",
       "\n",
       "                                          llm_markers  \n",
       "0   Это исключительно сильный кандидат. Оценка: 9....  \n",
       "1   Оценка: 8/10\\n\\n**Сильные стороны:**\\n- Отличн...  \n",
       "2   9/10\\n\\nЭто впечатляющее резюме демонстрирует ...  \n",
       "3   На основе предоставленного резюме я оцениваю к...  \n",
       "4   9/10\\n\\n**Обоснование оценки:**\\n\\nКандидат де...  \n",
       "..                                                ...  \n",
       "95  На основе предоставленного резюме я оцениваю к...  \n",
       "96  На основе предоставленного резюме я оцениваю к...  \n",
       "97  ### Оценка резюме для летней школы по искусств...  \n",
       "98  | Критерий оценки          | Обоснование      ...  \n",
       "99  На основе предоставленного резюме я оцениваю к...  \n",
       "\n",
       "[100 rows x 2 columns]"
      ]
     },
     "execution_count": 9,
     "metadata": {},
     "output_type": "execute_result"
    }
   ],
   "source": [
    "pd.read_csv(data_dir / \"baseline_cv.csv\")"
   ]
  }
 ],
 "metadata": {
  "kernelspec": {
   "display_name": "venv",
   "language": "python",
   "name": "python3"
  },
  "language_info": {
   "codemirror_mode": {
    "name": "ipython",
    "version": 3
   },
   "file_extension": ".py",
   "mimetype": "text/x-python",
   "name": "python",
   "nbconvert_exporter": "python",
   "pygments_lexer": "ipython3",
   "version": "3.13.7"
  }
 },
 "nbformat": 4,
 "nbformat_minor": 5
}
