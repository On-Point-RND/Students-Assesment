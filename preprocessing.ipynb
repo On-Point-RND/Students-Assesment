{
 "cells": [
  {
   "cell_type": "markdown",
   "id": "0fb277e5",
   "metadata": {},
   "source": [
    "# Data preprocessing\n",
    "\n",
    "This file contains the code for data preprocessing and the description of the obtained dataset."
   ]
  },
  {
   "cell_type": "markdown",
   "id": "de43db68",
   "metadata": {},
   "source": [
    "## Dataset description\n",
    "\n",
    "The dataset is saved as `/data/dataset.parquet` file with all necessary data for each student, who have either submitted CV, Motivational letter or Presentation. The dataset contains 577 rows and 25 columns in total. The table below gives explicit description of the dataset content.\n"
   ]
  },
  {
   "cell_type": "markdown",
   "id": "15085a8c",
   "metadata": {},
   "source": [
    "### Data overview\n",
    "\n",
    "| # | Column                      | Non-Null Count | Dtype   | Range      | Description                                                                 |\n",
    "|---|-----------------------------|----------------|---------|------------|-----------------------------------------------------------------------------|\n",
    "| 0 | cv                          | 567 non-null   | object  | N/A        | The anonymized CV in the form of string.                                    |\n",
    "| 1 | letter                      | 568 non-null   | object  | N/A        | The anonymized Motivational letter in the form of string.                   |\n",
    "| 2 | presentation                | 564 non-null   | object  | N/A        | The anonymized text from Presentation slides in the form of string.        |\n",
    "| 3 | cv_phd_1                    | 567 non-null   | float64 | 0 - 5      | The CV score from first PhD student assessor.                               |\n",
    "| 4 | cv_phd_2                    | 567 non-null   | float64 | 0 - 5      | The CV score from second PhD student assessor.                              |\n",
    "| 5 | letter_phd_1                | 567 non-null   | float64 | 0 - 5      | The Motivational letter score from first PhD student assessor.              |\n",
    "| 6 | letter_phd_2                | 567 non-null   | float64 | 0 - 5      | The Motivational letter score from second PhD student assessor.             |\n",
    "| 7 | pres_phd_1                  | 567 non-null   | float64 | 0 - 20     | The Presentation score from first PhD student assessor.                     |\n",
    "| 8 | pres_phd_2                  | 567 non-null   | float64 | 0 - 20     | The Presentation score from second PhD student assessor.                    |\n",
    "| 9 | pres_class                  | 567 non-null   | float64 | 0 - 3      | The type of Presentation (review, article replication of personal project). |\n",
    "| 10| video_phd_1                 | 383 non-null   | float64 | 0 - 20     | The Presentation video score from first PhD student assessor.               |\n",
    "| 11| video_phd_2                 | 409 non-null   | float64 | 0 - 20     | The Presentation video score from second PhD student assessor.              |\n",
    "| 12| all_phd_1                   | 567 non-null   | float64 | 0 - 100    | The total score from first PhD student assessor.                            |\n",
    "| 13| all_phd_2                   | 567 non-null   | float64 | 0 - 100    | The total score from first PhD student assessor.                            |\n",
    "| 14| final_human_score           | 98 non-null    | float64 | 0 - 100    | The final score (weighted mean of PhD students and Professor scores).       |\n",
    "| 15| prof_score                  | 98 non-null    | float64 | 0 - 10     | The Professor's overall score.                                              |\n",
    "| 16| offline_test_1              | 48 non-null    | float64 | 0 - 1      | The results of the first offline test.                                      |\n",
    "| 17| offline_test_2              | 48 non-null    | float64 | 0 - 1      | The results of the second offline test.                                     |\n",
    "| 18| offline_test_3              | 48 non-null    | float64 | 0 - 1      | The results of the third offline test.                                      |\n",
    "| 19| offline_test_4              | 48 non-null    | float64 | 0 - 1      | The results of the fourth offline test.                                     |\n",
    "| 20| offline_test_total          | 48 non-null    | float64 | 0 - 1      | The sum of all offline tests.                                               |\n",
    "| 21| online_test_score           | 68 non-null    | float64 | 0 - 67     | The results of the online test                                              |\n",
    "| 22| project_participation_flag  | 577 non-null   | bool    | T/F        | The flag of student's participation in the project activity.                |\n",
    "| 23| project_ta_score            | 118 non-null   | float64 | 0 - 5      | The project score from the teacher assistants.                              |\n",
    "| 24| project_peer_score          | 118 non-null   | float64 | 0 - 10     | The project score from the peer-review stage.                               |"
   ]
  },
  {
   "cell_type": "markdown",
   "id": "468c4fb9",
   "metadata": {},
   "source": [
    "### Data acquisition\n",
    "\n",
    "The first three conlumns contain input anonymized data: the text of CV, Motivational letter and text extracted from Presentation slides. \n",
    "\n",
    "The columns with `phd` interfix contain the scores for every type of the data that was submitted by student during the application period. As each student application has been evaluated by two PhD students independently, the columns also contain numeric suffix to separate the assessors. \n",
    "\n",
    "After being evaluated by PhD students, top 100 applicants have been evaluated by Professors; this score is preseneted into `prof_score` column. The final score denoted as `final_human_score` is the weighted sum of two PhD students evaluations and Professors score.\n",
    "\n",
    "The columns with the `offline_test` prefix contain results of the intermediate tests that have been taken by the offline participants. If the offline participant have missed the test, the test score is zeros. For online participants the scores are NaNs.\n",
    "\n",
    "The `online_test_score` columns contains the scores of online and offline participants for final test. The score ranges from 0 to 67. All the applicants who missed the test have NaN values by default.\n",
    "\n",
    "The `project_participation_flag` indicates if the applicant have participated in final projects activity or not.\n",
    "\n",
    "The `project_ta_score` and `project_peer_score` contains the scores for the project, given by teacher assistants and by other school participants respectively."
   ]
  },
  {
   "cell_type": "markdown",
   "id": "8c02626d",
   "metadata": {},
   "source": [
    "## Preprocessing pipeline"
   ]
  },
  {
   "cell_type": "code",
   "execution_count": 1,
   "id": "95812c2f",
   "metadata": {},
   "outputs": [],
   "source": [
    "import os\n",
    "\n",
    "import pandas as pd\n",
    "from tqdm import tqdm"
   ]
  },
  {
   "cell_type": "code",
   "execution_count": 2,
   "id": "2aad106f",
   "metadata": {},
   "outputs": [],
   "source": [
    "JOIN_TYPE = \"left\""
   ]
  },
  {
   "cell_type": "markdown",
   "id": "4406d141",
   "metadata": {},
   "source": [
    "### Unicode names restoration"
   ]
  },
  {
   "cell_type": "code",
   "execution_count": 3,
   "id": "126b03ee",
   "metadata": {},
   "outputs": [],
   "source": [
    "import re\n",
    "\n",
    "\n",
    "def unescape_filename(name):\n",
    "    \"\"\"\n",
    "    Replace all occurrences of '#U' followed by four hexadecimal characters\n",
    "    with the corresponding Unicode character.\n",
    "    \"\"\"\n",
    "    return re.sub(r\"#U([0-9a-fA-F]{4})\", lambda m: chr(int(m.group(1), 16)), name)\n"
   ]
  },
  {
   "cell_type": "code",
   "execution_count": 4,
   "id": "2f6653e2",
   "metadata": {},
   "outputs": [],
   "source": [
    "FOLDER = \"./data/raw\"\n",
    "\n",
    "for dirpath, dirnames, filenames in os.walk(FOLDER):\n",
    "    if dirnames == []:\n",
    "        for filename in filenames:\n",
    "            new_filename = os.path.join(dirpath, unescape_filename(filename).strip())\n",
    "            old_filename = os.path.join(dirpath, filename)\n",
    "            os.rename(old_filename, new_filename)\n"
   ]
  },
  {
   "cell_type": "markdown",
   "id": "850ad941",
   "metadata": {},
   "source": [
    "### Student names unification"
   ]
  },
  {
   "cell_type": "code",
   "execution_count": 5,
   "id": "c3edc092",
   "metadata": {},
   "outputs": [
    {
     "name": "stdout",
     "output_type": "stream",
     "text": [
      "Unique students: 574\n"
     ]
    }
   ],
   "source": [
    "students = set()\n",
    "\n",
    "for _, _, filenames in os.walk(FOLDER):\n",
    "    filenames = set(name[: name.rfind(\".txt\")] for name in filenames)\n",
    "    students = students.union(filenames)\n",
    "\n",
    "dataset = pd.DataFrame(index=sorted(students))\n",
    "dataset.index.name = \"name\"\n",
    "print(f\"Unique students: {len(dataset)}\")"
   ]
  },
  {
   "cell_type": "markdown",
   "id": "2bd020d2",
   "metadata": {},
   "source": [
    "### Data writing"
   ]
  },
  {
   "cell_type": "code",
   "execution_count": 6,
   "id": "6832ed1e",
   "metadata": {},
   "outputs": [
    {
     "name": "stderr",
     "output_type": "stream",
     "text": [
      "Processing files from ./data/raw\\cvs_an: 100%|██████████| 564/564 [00:06<00:00, 84.84it/s] \n",
      "Processing files from ./data/raw\\letters_an: 100%|██████████| 565/565 [00:07<00:00, 75.72it/s]\n",
      "Processing files from ./data/raw\\presentations_an: 100%|██████████| 561/561 [00:07<00:00, 71.95it/s]"
     ]
    },
    {
     "name": "stdout",
     "output_type": "stream",
     "text": [
      "<class 'pandas.core.frame.DataFrame'>\n",
      "Index: 574 entries, Adam Mazilescu to Ștefania Albu\n",
      "Data columns (total 3 columns):\n",
      " #   Column        Non-Null Count  Dtype \n",
      "---  ------        --------------  ----- \n",
      " 0   cv            564 non-null    object\n",
      " 1   letter        565 non-null    object\n",
      " 2   presentation  561 non-null    object\n",
      "dtypes: object(3)\n",
      "memory usage: 34.1+ KB\n"
     ]
    },
    {
     "name": "stderr",
     "output_type": "stream",
     "text": [
      "\n"
     ]
    }
   ],
   "source": [
    "for dirpath, dirnames, filenames in os.walk(FOLDER):\n",
    "    if dirnames:\n",
    "        continue\n",
    "\n",
    "    subfolder = os.path.basename(dirpath)\n",
    "    label = subfolder[: subfolder.find(\"s_\")]\n",
    "    for filename in tqdm(filenames, f\"Processing files from {dirpath}\"):\n",
    "        with open(os.path.join(dirpath, filename), encoding=\"utf-8\") as f:\n",
    "            content = f.read()\n",
    "        idx = filename[: filename.rfind(\".txt\")]\n",
    "        dataset.loc[idx, label] = content\n",
    "\n",
    "dataset.info()"
   ]
  },
  {
   "cell_type": "code",
   "execution_count": 7,
   "id": "91e225dc",
   "metadata": {},
   "outputs": [],
   "source": [
    "def excel_to_python_float(x):\n",
    "    try:\n",
    "        return float(str(x).replace(\",\", \".\"))\n",
    "    except ValueError:\n",
    "        return None\n",
    "\n",
    "\n",
    "def excel_to_python_bool(x):\n",
    "    if x == \"ИСТИНА\":\n",
    "        return 1\n",
    "    elif x == \"ЛОЖЬ\":\n",
    "        return 0\n",
    "    else:\n",
    "        return None\n",
    "\n",
    "\n",
    "def clean_indexes(df: pd.DataFrame) -> pd.DataFrame:\n",
    "    \"\"\"\n",
    "    Clean the index of the DataFrame by removing leading and trailing whitespace\n",
    "    and converting to string.\n",
    "    \"\"\"\n",
    "    df.index = df.index.map(lambda x: str(x).strip())\n",
    "    return df[~df.index.isna()]"
   ]
  },
  {
   "cell_type": "markdown",
   "id": "029ea7b8",
   "metadata": {},
   "source": [
    "### PhD students' evluations (round 1)"
   ]
  },
  {
   "cell_type": "code",
   "execution_count": 8,
   "id": "3b966e51",
   "metadata": {},
   "outputs": [
    {
     "name": "stdout",
     "output_type": "stream",
     "text": [
      "Presentation classes are equal. Perform reduction\n",
      "<class 'pandas.core.frame.DataFrame'>\n",
      "Index: 609 entries, Martin Slobodník to Edmund Štefanko\n",
      "Data columns (total 11 columns):\n",
      " #   Column        Non-Null Count  Dtype  \n",
      "---  ------        --------------  -----  \n",
      " 0   cv_phd_1      609 non-null    float64\n",
      " 1   cv_phd_2      609 non-null    float64\n",
      " 2   letter_phd_1  609 non-null    float64\n",
      " 3   letter_phd_2  609 non-null    float64\n",
      " 4   pres_phd_1    609 non-null    float64\n",
      " 5   pres_phd_2    609 non-null    float64\n",
      " 6   pres_class    609 non-null    float64\n",
      " 7   video_phd_1   409 non-null    float64\n",
      " 8   video_phd_2   439 non-null    float64\n",
      " 9   all_phd_1     609 non-null    float64\n",
      " 10  all_phd_2     609 non-null    float64\n",
      "dtypes: float64(11)\n",
      "memory usage: 57.1+ KB\n"
     ]
    }
   ],
   "source": [
    "phd_evals = pd.read_csv(os.path.join(FOLDER, \"student_evaluation_main.csv\"), sep=\";\")\n",
    "phd_evals = phd_evals.set_index(\"new_names\")\n",
    "phd_evals = clean_indexes(phd_evals)\n",
    "\n",
    "# Rename columns for consistency\n",
    "mapper = {\n",
    "    col: col.replace(\"mean\", \"phd\").replace(\"points\", \"phd\")\n",
    "    for col in phd_evals.columns\n",
    "}\n",
    "phd_evals = phd_evals.rename(columns=mapper)\n",
    "phd_evals = phd_evals[~phd_evals[\"pres_class_2\"].isna()]\n",
    "if all(phd_evals[\"pres_class_1\"] == phd_evals[\"pres_class_2\"]):\n",
    "    print(\"Presentation classes are equal. Perform reduction\")\n",
    "    phd_evals = phd_evals.drop(columns=\"pres_class_2\")\n",
    "    phd_evals = phd_evals.rename(columns={\"pres_class_1\": \"pres_class\"})\n",
    "\n",
    "\n",
    "# Convert Excel-style floats to Pythonic\n",
    "phd_evals = phd_evals.map(excel_to_python_float)\n",
    "\n",
    "phd_evals.info()"
   ]
  },
  {
   "cell_type": "code",
   "execution_count": 9,
   "id": "340bd2bd",
   "metadata": {},
   "outputs": [
    {
     "name": "stdout",
     "output_type": "stream",
     "text": [
      "<class 'pandas.core.frame.DataFrame'>\n",
      "Index: 574 entries, Adam Mazilescu to Ștefania Albu\n",
      "Data columns (total 14 columns):\n",
      " #   Column        Non-Null Count  Dtype  \n",
      "---  ------        --------------  -----  \n",
      " 0   cv            564 non-null    object \n",
      " 1   letter        565 non-null    object \n",
      " 2   presentation  561 non-null    object \n",
      " 3   cv_phd_1      564 non-null    float64\n",
      " 4   cv_phd_2      564 non-null    float64\n",
      " 5   letter_phd_1  564 non-null    float64\n",
      " 6   letter_phd_2  564 non-null    float64\n",
      " 7   pres_phd_1    564 non-null    float64\n",
      " 8   pres_phd_2    564 non-null    float64\n",
      " 9   pres_class    564 non-null    float64\n",
      " 10  video_phd_1   380 non-null    float64\n",
      " 11  video_phd_2   406 non-null    float64\n",
      " 12  all_phd_1     564 non-null    float64\n",
      " 13  all_phd_2     564 non-null    float64\n",
      "dtypes: float64(11), object(3)\n",
      "memory usage: 83.4+ KB\n"
     ]
    }
   ],
   "source": [
    "dataset = pd.merge(dataset, phd_evals, left_index=True, right_index=True, how=JOIN_TYPE)\n",
    "dataset.info()"
   ]
  },
  {
   "cell_type": "markdown",
   "id": "78c70c69",
   "metadata": {},
   "source": [
    "### Professors' evaluations (round 2)"
   ]
  },
  {
   "cell_type": "code",
   "execution_count": 10,
   "id": "4deebea5",
   "metadata": {},
   "outputs": [
    {
     "name": "stdout",
     "output_type": "stream",
     "text": [
      "<class 'pandas.core.frame.DataFrame'>\n",
      "Index: 102 entries, Emilia Pop to Ante Stoll\n",
      "Data columns (total 2 columns):\n",
      " #   Column             Non-Null Count  Dtype  \n",
      "---  ------             --------------  -----  \n",
      " 0   final_human_score  102 non-null    float64\n",
      " 1   prof_score         102 non-null    float64\n",
      "dtypes: float64(2)\n",
      "memory usage: 2.4+ KB\n"
     ]
    }
   ],
   "source": [
    "prof_evals = pd.read_csv(os.path.join(FOLDER, \"prof_eval_anon.csv\"), sep=\";\")\n",
    "prof_evals = prof_evals.set_index(\"names\")\n",
    "prof_evals = clean_indexes(prof_evals)\n",
    "\n",
    "# Rename columns for consistency\n",
    "prof_evals = prof_evals.drop(columns=\"initial marks (mean of two)\")\n",
    "prof_evals = prof_evals.dropna(axis=\"columns\")\n",
    "\n",
    "mapper = {\n",
    "    \"final mark (weighted)\": \"final_human_score\",\n",
    "    \"prof marks (normilized)\": \"prof_score\",\n",
    "}\n",
    "prof_evals = prof_evals.rename(columns=mapper)\n",
    "\n",
    "# Convert Excel-style floats to Pythonic\n",
    "prof_evals = prof_evals.map(excel_to_python_float)\n",
    "\n",
    "prof_evals.info()"
   ]
  },
  {
   "cell_type": "code",
   "execution_count": 11,
   "id": "63aef8b8",
   "metadata": {},
   "outputs": [
    {
     "name": "stdout",
     "output_type": "stream",
     "text": [
      "<class 'pandas.core.frame.DataFrame'>\n",
      "Index: 574 entries, Adam Mazilescu to Ștefania Albu\n",
      "Data columns (total 16 columns):\n",
      " #   Column             Non-Null Count  Dtype  \n",
      "---  ------             --------------  -----  \n",
      " 0   cv                 564 non-null    object \n",
      " 1   letter             565 non-null    object \n",
      " 2   presentation       561 non-null    object \n",
      " 3   cv_phd_1           564 non-null    float64\n",
      " 4   cv_phd_2           564 non-null    float64\n",
      " 5   letter_phd_1       564 non-null    float64\n",
      " 6   letter_phd_2       564 non-null    float64\n",
      " 7   pres_phd_1         564 non-null    float64\n",
      " 8   pres_phd_2         564 non-null    float64\n",
      " 9   pres_class         564 non-null    float64\n",
      " 10  video_phd_1        380 non-null    float64\n",
      " 11  video_phd_2        406 non-null    float64\n",
      " 12  all_phd_1          564 non-null    float64\n",
      " 13  all_phd_2          564 non-null    float64\n",
      " 14  final_human_score  95 non-null     float64\n",
      " 15  prof_score         95 non-null     float64\n",
      "dtypes: float64(13), object(3)\n",
      "memory usage: 92.4+ KB\n"
     ]
    }
   ],
   "source": [
    "dataset = pd.merge(\n",
    "    dataset, prof_evals, left_index=True, right_index=True, how=JOIN_TYPE\n",
    ")\n",
    "dataset.info()"
   ]
  },
  {
   "cell_type": "markdown",
   "id": "c8922854",
   "metadata": {},
   "source": [
    "### Offline tests"
   ]
  },
  {
   "cell_type": "code",
   "execution_count": 12,
   "id": "78ee6d98",
   "metadata": {},
   "outputs": [
    {
     "name": "stdout",
     "output_type": "stream",
     "text": [
      "<class 'pandas.core.frame.DataFrame'>\n",
      "Index: 54 entries, Romana Rysová to Valentina Toma\n",
      "Data columns (total 5 columns):\n",
      " #   Column              Non-Null Count  Dtype  \n",
      "---  ------              --------------  -----  \n",
      " 0   offline_test_1      54 non-null     float64\n",
      " 1   offline_test_2      54 non-null     float64\n",
      " 2   offline_test_3      54 non-null     float64\n",
      " 3   offline_test_4      54 non-null     float64\n",
      " 4   offline_test_total  54 non-null     float64\n",
      "dtypes: float64(5)\n",
      "memory usage: 2.5+ KB\n"
     ]
    }
   ],
   "source": [
    "offline_test = pd.read_csv(os.path.join(FOLDER, \"offline_tests.csv\"))\n",
    "offline_test = offline_test.set_index(\"names\")\n",
    "offline_test = clean_indexes(offline_test)\n",
    "\n",
    "# Rename columns for consistency\n",
    "mapper = {\"Total\": \"offline_test_total\"}\n",
    "idx = 1\n",
    "for col in offline_test.columns:\n",
    "    if col.find(\"Jul\") > 0:\n",
    "        mapper[col] = f\"offline_test_{idx}\"\n",
    "        idx += 1\n",
    "offline_test = offline_test.rename(columns=mapper)\n",
    "\n",
    "# Set zeros for student who had been present but did not take the offline test\n",
    "offline_test = offline_test.fillna(0)\n",
    "\n",
    "offline_test.info()"
   ]
  },
  {
   "cell_type": "code",
   "execution_count": 13,
   "id": "4b43f14a",
   "metadata": {},
   "outputs": [
    {
     "name": "stdout",
     "output_type": "stream",
     "text": [
      "<class 'pandas.core.frame.DataFrame'>\n",
      "Index: 577 entries, Adam Mazilescu to Ștefania Albu\n",
      "Data columns (total 21 columns):\n",
      " #   Column              Non-Null Count  Dtype  \n",
      "---  ------              --------------  -----  \n",
      " 0   cv                  567 non-null    object \n",
      " 1   letter              568 non-null    object \n",
      " 2   presentation        564 non-null    object \n",
      " 3   cv_phd_1            567 non-null    float64\n",
      " 4   cv_phd_2            567 non-null    float64\n",
      " 5   letter_phd_1        567 non-null    float64\n",
      " 6   letter_phd_2        567 non-null    float64\n",
      " 7   pres_phd_1          567 non-null    float64\n",
      " 8   pres_phd_2          567 non-null    float64\n",
      " 9   pres_class          567 non-null    float64\n",
      " 10  video_phd_1         383 non-null    float64\n",
      " 11  video_phd_2         409 non-null    float64\n",
      " 12  all_phd_1           567 non-null    float64\n",
      " 13  all_phd_2           567 non-null    float64\n",
      " 14  final_human_score   98 non-null     float64\n",
      " 15  prof_score          98 non-null     float64\n",
      " 16  offline_test_1      48 non-null     float64\n",
      " 17  offline_test_2      48 non-null     float64\n",
      " 18  offline_test_3      48 non-null     float64\n",
      " 19  offline_test_4      48 non-null     float64\n",
      " 20  offline_test_total  48 non-null     float64\n",
      "dtypes: float64(18), object(3)\n",
      "memory usage: 99.2+ KB\n"
     ]
    }
   ],
   "source": [
    "dataset = pd.merge(\n",
    "    dataset, offline_test, left_index=True, right_index=True, how=JOIN_TYPE\n",
    ")\n",
    "dataset.info()"
   ]
  },
  {
   "cell_type": "markdown",
   "id": "7d3a9c62",
   "metadata": {},
   "source": [
    "### Online test and projects participation"
   ]
  },
  {
   "cell_type": "code",
   "execution_count": 14,
   "id": "22af3f44",
   "metadata": {},
   "outputs": [
    {
     "name": "stdout",
     "output_type": "stream",
     "text": [
      "<class 'pandas.core.frame.DataFrame'>\n",
      "Index: 71 entries, Günter Kroker B.Sc. to Varvara Ababei\n",
      "Data columns (total 2 columns):\n",
      " #   Column                      Non-Null Count  Dtype\n",
      "---  ------                      --------------  -----\n",
      " 0   online_test_score           71 non-null     int64\n",
      " 1   project_participation_flag  71 non-null     int64\n",
      "dtypes: int64(2)\n",
      "memory usage: 1.7+ KB\n"
     ]
    }
   ],
   "source": [
    "online_test = pd.read_csv(\n",
    "    os.path.join(FOLDER, \"anonymized_test_project_scores_final.csv\"), sep=\";\"\n",
    ")\n",
    "online_test = online_test.set_index(\"new_names\")\n",
    "online_test = clean_indexes(online_test)\n",
    "\n",
    "mapper = {\n",
    "    \"Score\": \"online_test_score\",\n",
    "    \"project_flag\": \"project_participation_flag\",\n",
    "}\n",
    "online_test = online_test.rename(columns=mapper)\n",
    "online_test[\"project_participation_flag\"] = online_test[\n",
    "    \"project_participation_flag\"\n",
    "].map(excel_to_python_bool)\n",
    "\n",
    "online_test = online_test.fillna(0)\n",
    "\n",
    "online_test.info()"
   ]
  },
  {
   "cell_type": "code",
   "execution_count": 15,
   "id": "eb8b0539",
   "metadata": {},
   "outputs": [
    {
     "name": "stdout",
     "output_type": "stream",
     "text": [
      "<class 'pandas.core.frame.DataFrame'>\n",
      "Index: 577 entries, Adam Mazilescu to Ștefania Albu\n",
      "Data columns (total 23 columns):\n",
      " #   Column                      Non-Null Count  Dtype  \n",
      "---  ------                      --------------  -----  \n",
      " 0   cv                          567 non-null    object \n",
      " 1   letter                      568 non-null    object \n",
      " 2   presentation                564 non-null    object \n",
      " 3   cv_phd_1                    567 non-null    float64\n",
      " 4   cv_phd_2                    567 non-null    float64\n",
      " 5   letter_phd_1                567 non-null    float64\n",
      " 6   letter_phd_2                567 non-null    float64\n",
      " 7   pres_phd_1                  567 non-null    float64\n",
      " 8   pres_phd_2                  567 non-null    float64\n",
      " 9   pres_class                  567 non-null    float64\n",
      " 10  video_phd_1                 383 non-null    float64\n",
      " 11  video_phd_2                 409 non-null    float64\n",
      " 12  all_phd_1                   567 non-null    float64\n",
      " 13  all_phd_2                   567 non-null    float64\n",
      " 14  final_human_score           98 non-null     float64\n",
      " 15  prof_score                  98 non-null     float64\n",
      " 16  offline_test_1              48 non-null     float64\n",
      " 17  offline_test_2              48 non-null     float64\n",
      " 18  offline_test_3              48 non-null     float64\n",
      " 19  offline_test_4              48 non-null     float64\n",
      " 20  offline_test_total          48 non-null     float64\n",
      " 21  online_test_score           68 non-null     float64\n",
      " 22  project_participation_flag  577 non-null    bool   \n",
      "dtypes: bool(1), float64(19), object(3)\n",
      "memory usage: 104.2+ KB\n"
     ]
    }
   ],
   "source": [
    "dataset = pd.merge(\n",
    "    dataset, online_test, left_index=True, right_index=True, how=JOIN_TYPE\n",
    ")\n",
    "dataset[\"project_participation_flag\"] = dataset[\"project_participation_flag\"].fillna(0)\n",
    "dataset[\"project_participation_flag\"] = dataset[\"project_participation_flag\"].astype(\n",
    "    bool\n",
    ")\n",
    "dataset.info()"
   ]
  },
  {
   "cell_type": "markdown",
   "id": "2f0049a7",
   "metadata": {},
   "source": [
    "### Projects scores"
   ]
  },
  {
   "cell_type": "code",
   "execution_count": 16,
   "id": "a6104108",
   "metadata": {},
   "outputs": [
    {
     "name": "stdout",
     "output_type": "stream",
     "text": [
      "<class 'pandas.core.frame.DataFrame'>\n",
      "Index: 39 entries, Tania Stoica, Žofia Sameľová, Univ.Prof. Elke Sontag, Vratislav Repiský, Hans-Martin Jungfer to nan\n",
      "Data columns (total 2 columns):\n",
      " #   Column                  Non-Null Count  Dtype  \n",
      "---  ------                  --------------  -----  \n",
      " 0   Final Score             39 non-null     int64  \n",
      " 1   Students Scores (0-10)  38 non-null     float64\n",
      "dtypes: float64(1), int64(1)\n",
      "memory usage: 936.0+ bytes\n"
     ]
    }
   ],
   "source": [
    "raw_projects = pd.read_csv(os.path.join(FOLDER, \"anon_projects_scores.csv\"), sep=\",\")\n",
    "raw_projects = raw_projects.set_index(\"Anon Names\")\n",
    "raw_projects = clean_indexes(raw_projects)\n",
    "raw_projects = raw_projects.drop(columns=\"Project name \")\n",
    "\n",
    "raw_projects.info()"
   ]
  },
  {
   "cell_type": "code",
   "execution_count": 17,
   "id": "96916f16",
   "metadata": {},
   "outputs": [
    {
     "name": "stdout",
     "output_type": "stream",
     "text": [
      "<class 'pandas.core.frame.DataFrame'>\n",
      "Index: 128 entries, Tania Stoica to nan\n",
      "Data columns (total 2 columns):\n",
      " #   Column              Non-Null Count  Dtype  \n",
      "---  ------              --------------  -----  \n",
      " 0   project_ta_score    128 non-null    float64\n",
      " 1   project_peer_score  127 non-null    float64\n",
      "dtypes: float64(2)\n",
      "memory usage: 7.1+ KB\n"
     ]
    }
   ],
   "source": [
    "projects = pd.DataFrame(columns=raw_projects.columns, dtype=float)\n",
    "\n",
    "for team in raw_projects.index:\n",
    "    participants = map(lambda x: x.strip(), str(team).split(\",\"))\n",
    "    for participant in participants:\n",
    "        projects.loc[participant, raw_projects.columns] = raw_projects.loc[team, :]\n",
    "\n",
    "mapper = {\n",
    "    \"Final Score\": \"project_ta_score\",\n",
    "    \"Students Scores (0-10)\": \"project_peer_score\",\n",
    "}\n",
    "projects = projects.rename(columns=mapper)\n",
    "\n",
    "projects.info()"
   ]
  },
  {
   "cell_type": "code",
   "execution_count": 18,
   "id": "a295ff40",
   "metadata": {},
   "outputs": [
    {
     "name": "stdout",
     "output_type": "stream",
     "text": [
      "<class 'pandas.core.frame.DataFrame'>\n",
      "Index: 577 entries, Adam Mazilescu to Ștefania Albu\n",
      "Data columns (total 25 columns):\n",
      " #   Column                      Non-Null Count  Dtype  \n",
      "---  ------                      --------------  -----  \n",
      " 0   cv                          567 non-null    object \n",
      " 1   letter                      568 non-null    object \n",
      " 2   presentation                564 non-null    object \n",
      " 3   cv_phd_1                    567 non-null    float64\n",
      " 4   cv_phd_2                    567 non-null    float64\n",
      " 5   letter_phd_1                567 non-null    float64\n",
      " 6   letter_phd_2                567 non-null    float64\n",
      " 7   pres_phd_1                  567 non-null    float64\n",
      " 8   pres_phd_2                  567 non-null    float64\n",
      " 9   pres_class                  567 non-null    float64\n",
      " 10  video_phd_1                 383 non-null    float64\n",
      " 11  video_phd_2                 409 non-null    float64\n",
      " 12  all_phd_1                   567 non-null    float64\n",
      " 13  all_phd_2                   567 non-null    float64\n",
      " 14  final_human_score           98 non-null     float64\n",
      " 15  prof_score                  98 non-null     float64\n",
      " 16  offline_test_1              48 non-null     float64\n",
      " 17  offline_test_2              48 non-null     float64\n",
      " 18  offline_test_3              48 non-null     float64\n",
      " 19  offline_test_4              48 non-null     float64\n",
      " 20  offline_test_total          48 non-null     float64\n",
      " 21  online_test_score           68 non-null     float64\n",
      " 22  project_participation_flag  577 non-null    bool   \n",
      " 23  project_ta_score            118 non-null    float64\n",
      " 24  project_peer_score          118 non-null    float64\n",
      "dtypes: bool(1), float64(21), object(3)\n",
      "memory usage: 113.3+ KB\n"
     ]
    }
   ],
   "source": [
    "dataset = pd.merge(dataset, projects, left_index=True, right_index=True, how=JOIN_TYPE)\n",
    "dataset.info()"
   ]
  },
  {
   "cell_type": "code",
   "execution_count": 19,
   "id": "27899505",
   "metadata": {},
   "outputs": [],
   "source": [
    "FILE_NAME = \"./data/dataset.parquet\"\n",
    "\n",
    "dataset.to_parquet(FILE_NAME)"
   ]
  },
  {
   "cell_type": "markdown",
   "id": "f145b1dd",
   "metadata": {},
   "source": [
    "### Final check\n",
    "\n",
    "It has been found that the `.parquet` format is the optimal format for data saving because it is not distorted by commas and semicolumns which are presented in the textual data."
   ]
  },
  {
   "cell_type": "code",
   "execution_count": 20,
   "id": "06d977fa",
   "metadata": {},
   "outputs": [],
   "source": [
    "check = pd.read_parquet(FILE_NAME)\n",
    "assert check.equals(dataset), \"Dataset saved incorrectly. Check the data consistency!\"\n",
    "del check"
   ]
  }
 ],
 "metadata": {
  "kernelspec": {
   "display_name": ".venv",
   "language": "python",
   "name": "python3"
  },
  "language_info": {
   "codemirror_mode": {
    "name": "ipython",
    "version": 3
   },
   "file_extension": ".py",
   "mimetype": "text/x-python",
   "name": "python",
   "nbconvert_exporter": "python",
   "pygments_lexer": "ipython3",
   "version": "3.12.6"
  }
 },
 "nbformat": 4,
 "nbformat_minor": 5
}
